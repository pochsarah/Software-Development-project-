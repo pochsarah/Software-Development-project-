{
 "cells": [
  {
   "cell_type": "code",
   "execution_count": 2,
   "id": "d7963b0d",
   "metadata": {},
   "outputs": [],
   "source": [
    "import geemap"
   ]
  },
  {
   "cell_type": "code",
   "execution_count": 3,
   "id": "cea9c409",
   "metadata": {},
   "outputs": [
    {
     "data": {
      "application/vnd.jupyter.widget-view+json": {
       "model_id": "3e69453ccca0489f9f2818eecbf7fa3a",
       "version_major": 2,
       "version_minor": 0
      },
      "text/plain": [
       "Map(center=[20, 0], controls=(WidgetControl(options=['position', 'transparent_bg'], widget=HBox(children=(Togg…"
      ]
     },
     "metadata": {},
     "output_type": "display_data"
    }
   ],
   "source": [
    "Map = geemap.Map()\n",
    "Map"
   ]
  },
  {
   "cell_type": "code",
   "execution_count": 4,
   "id": "2b665d83",
   "metadata": {},
   "outputs": [],
   "source": [
    "Map.add_basemap(\"ROADMAP\")"
   ]
  },
  {
   "cell_type": "code",
   "execution_count": 5,
   "id": "3f1ef3da",
   "metadata": {},
   "outputs": [],
   "source": [
    "import ee\n",
    "# Add Earth Engine dataset\n",
    "dem = ee.Image('USGS/SRTMGL1_003')\n",
    "landcover = ee.Image(\"ESA/GLOBCOVER_L4_200901_200912_V2_3\").select('landcover')\n",
    "landsat7 = ee.Image('LANDSAT/LE7_TOA_5YEAR/1999_2003').select(\n",
    "    ['B1', 'B2', 'B3', 'B4', 'B5', 'B7']\n",
    ")\n",
    "states = ee.FeatureCollection(\"TIGER/2018/States\")\n",
    "\n",
    "# Set visualization parameters.\n",
    "vis_params = {\n",
    "    'min': 0,\n",
    "    'max': 4000,\n",
    "    'palette': ['006633', 'E5FFCC', '662A00', 'D8D8D8', 'F5F5F5'],\n",
    "}\n",
    "\n",
    "# Add Earth Eninge layers to Map\n",
    "Map.addLayer(dem, vis_params, 'SRTM DEM', True, 0.5)\n",
    "Map.addLayer(landcover, {}, 'Land cover')\n",
    "Map.addLayer(\n",
    "    landsat7,\n",
    "    {'bands': ['B4', 'B3', 'B2'], 'min': 20, 'max': 200, 'gamma': 2.0},\n",
    "    'Landsat 7',\n",
    ")\n",
    "Map.addLayer(states, {}, \"US States\")"
   ]
  },
  {
   "cell_type": "code",
   "execution_count": 13,
   "id": "33d68692",
   "metadata": {},
   "outputs": [
    {
     "name": "stdout",
     "output_type": "stream",
     "text": [
      "Help on package geemap:\n",
      "\n",
      "NAME\n",
      "    geemap - Top-level package for geemap.\n",
      "\n",
      "PACKAGE CONTENTS\n",
      "    algorithms (package)\n",
      "    basemaps\n",
      "    cartoee\n",
      "    chart\n",
      "    cli\n",
      "    colormaps\n",
      "    common\n",
      "    conversion\n",
      "    datasets\n",
      "    deck\n",
      "    eefolium\n",
      "    examples (package)\n",
      "    foliumap\n",
      "    geemap\n",
      "    heremap\n",
      "    kepler\n",
      "    legends\n",
      "    ml\n",
      "    osm\n",
      "    plotlymap\n",
      "    timelapse\n",
      "    toolbar\n",
      "\n",
      "FUNCTIONS\n",
      "    use_folium()\n",
      "        Whether to use the folium or ipyleaflet plotting backend.\n",
      "\n",
      "DATA\n",
      "    __email__ = 'giswqs@gmail.com'\n",
      "    basemaps = Box({'OpenStreetMap': TileLayer(attribution='Ope...art/wmts...\n",
      "    builtin_legends = {'AAFC/ACI': {'10 Cloud': '000000', '110 Grassland':...\n",
      "\n",
      "VERSION\n",
      "    0.13.10\n",
      "\n",
      "AUTHOR\n",
      "    Qiusheng Wu\n",
      "\n",
      "FILE\n",
      "    c:\\users\\s1085496\\.conda\\envs\\gee\\lib\\site-packages\\geemap\\__init__.py\n",
      "\n",
      "\n"
     ]
    }
   ],
   "source": [
    "help (geemap)"
   ]
  },
  {
   "cell_type": "code",
   "execution_count": 14,
   "id": "dbfd0aae",
   "metadata": {},
   "outputs": [
    {
     "data": {
      "application/vnd.jupyter.widget-view+json": {
       "model_id": "3e69453ccca0489f9f2818eecbf7fa3a",
       "version_major": 2,
       "version_minor": 0
      },
      "text/plain": [
       "Map(bottom=2044.0, center=[37.471602850590656, -122.14451407746262], controls=(WidgetControl(options=['positio…"
      ]
     },
     "metadata": {},
     "output_type": "display_data"
    }
   ],
   "source": [
    "# Load a Landsat 8 image.\n",
    "image = ee.Image('LANDSAT/LC08/C01/T1_TOA/LC08_044034_20140318')\n",
    "\n",
    "# Compute the EVI using an expression.\n",
    "evi = image.expression(\n",
    "    '2.5 * ((NIR - RED) / (NIR + 6 * RED - 7.5 * BLUE + 1))', {\n",
    "      'NIR': image.select('B5'),\n",
    "      'RED': image.select('B4'),\n",
    "      'BLUE': image.select('B2')\n",
    "})\n",
    "\n",
    "Map.centerObject(image, 9)\n",
    "Map.addLayer(image, {'bands': ['B5', 'B4', 'B3']}, 'Landsat 8')\n",
    "Map.addLayer(evi, {'min': -1, 'max': 1, 'palette': ['FF0000', '00FF00']}, 'EVI')\n",
    "Map"
   ]
  },
  {
   "cell_type": "code",
   "execution_count": null,
   "id": "021de70d",
   "metadata": {},
   "outputs": [],
   "source": []
  }
 ],
 "metadata": {
  "kernelspec": {
   "display_name": "Python 3 (ipykernel)",
   "language": "python",
   "name": "python3"
  },
  "language_info": {
   "codemirror_mode": {
    "name": "ipython",
    "version": 3
   },
   "file_extension": ".py",
   "mimetype": "text/x-python",
   "name": "python",
   "nbconvert_exporter": "python",
   "pygments_lexer": "ipython3",
   "version": "3.9.12"
  }
 },
 "nbformat": 4,
 "nbformat_minor": 5
}

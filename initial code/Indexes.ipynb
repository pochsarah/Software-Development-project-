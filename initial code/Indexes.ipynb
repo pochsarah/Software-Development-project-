{
 "cells": [
  {
   "cell_type": "code",
   "execution_count": 78,
   "id": "d7963b0d",
   "metadata": {},
   "outputs": [
    {
     "name": "stdout",
     "output_type": "stream",
     "text": [
      "The autoreload extension is already loaded. To reload it, use:\n",
      "  %reload_ext autoreload\n"
     ]
    },
    {
     "data": {
      "application/vnd.jupyter.widget-view+json": {
       "model_id": "2a4eadd67f8d4eb9828d1a2838325d60",
       "version_major": 2,
       "version_minor": 0
      },
      "text/plain": [
       "Map(center=[20, 0], controls=(WidgetControl(options=['position', 'transparent_bg'], widget=HBox(children=(Togg…"
      ]
     },
     "metadata": {},
     "output_type": "display_data"
    }
   ],
   "source": [
    "import geemap\n",
    "import ee\n",
    "import indexes\n",
    "import autoreload\n",
    "%load_ext autoreload\n",
    "%autoreload 2\n",
    "\n",
    "# Example data : \n",
    "#'LANDSAT/LE7_TOA_5YEAR/1999_2003'\n",
    "\n",
    "#Initializing a Map\n",
    "Map = geemap.Map()\n",
    "Map\n"
   ]
  },
  {
   "cell_type": "code",
   "execution_count": 77,
   "id": "5c0c2cf4",
   "metadata": {},
   "outputs": [
    {
     "ename": "TypeError",
     "evalue": "index_NDVI() takes 2 positional arguments but 3 were given",
     "output_type": "error",
     "traceback": [
      "\u001b[1;31m---------------------------------------------------------------------------\u001b[0m",
      "\u001b[1;31mTypeError\u001b[0m                                 Traceback (most recent call last)",
      "\u001b[1;32m~\\AppData\\Local\\Temp\\ipykernel_6956\\2651619960.py\u001b[0m in \u001b[0;36m<module>\u001b[1;34m\u001b[0m\n\u001b[1;32m----> 1\u001b[1;33m \u001b[0mNDVI\u001b[0m\u001b[1;33m(\u001b[0m\u001b[1;34m'LANDSAT/LE7_TOA_5YEAR/1999_2003'\u001b[0m\u001b[1;33m,\u001b[0m\u001b[1;36m7\u001b[0m\u001b[1;33m,\u001b[0m\u001b[0mMap\u001b[0m\u001b[1;33m)\u001b[0m\u001b[1;33m\u001b[0m\u001b[1;33m\u001b[0m\u001b[0m\n\u001b[0m",
      "\u001b[1;31mTypeError\u001b[0m: index_NDVI() takes 2 positional arguments but 3 were given"
     ]
    }
   ],
   "source": [
    "NDVI('LANDSAT/LE7_TOA_5YEAR/1999_2003',7,Map)"
   ]
  },
  {
   "cell_type": "code",
   "execution_count": 85,
   "id": "a74f60dc",
   "metadata": {},
   "outputs": [],
   "source": [
    "#If it's not working with the indexes.py you can use this functions\n",
    "#Be careful, here you just need 2 args. \n",
    "\n",
    "def index_NDVI(name, sat):\n",
    "    \"\"\"\n",
    "    Calculate the NDVI (Normalized Difference Vegetation Index)\n",
    "    @param name: path of the gee image - String \n",
    "           sat: Number of the Landsat used as source - number\n",
    "    @return boolean False if the image is not coming from Ladsat 7 or 8\n",
    "                    else, return True\n",
    "    \"\"\"\n",
    "    image = ee.Image(name)\n",
    "    if(sat == 7): \n",
    "        NIR = image.select('B4')\n",
    "        Red = image.select('B3')\n",
    "    elif(sat != 7 or sat != 8): \n",
    "        print(\"Error: Not a Landsat 7 or 8 image!\")\n",
    "        return False \n",
    "    elif(sat == 8): \n",
    "        NIR = image.select('B5')\n",
    "        Red = image.select('B4')\n",
    "    \n",
    "    # Formula of NDVI = (NIR - Red)/(NIR + Red)\n",
    "    ndvi = NIR.subtract(Red).divide(NIR.add(Red))\n",
    "\n",
    "    palette = [\n",
    "    'FFFFFF', 'CE7E45', 'DF923D', 'F1B555', 'FCD163', '99B718', '74A901',\n",
    "    '66A000', '529400', '3E8601', '207401', '056201', '004C00', '023B01',\n",
    "    '012E01', '011D01', '011301']\n",
    "\n",
    "    Map.addLayer(ndvi, {'palette': palette}, \"NDVI\")\n",
    "    return True\n",
    "    \n",
    "def index_EVI(name, sat):\n",
    "    \"\"\"\n",
    "    Calculate the EVI (Enhanced Vegetation Index)\n",
    "    @param name: path of the gee image - String \n",
    "           sat: Number of the Landsat used as source - number\n",
    "    @return boolean False if the image is not coming from Ladsat 7 or 8\n",
    "                    else, return True\n",
    "    \"\"\"\n",
    "    image = ee.Image(name)\n",
    "    \n",
    "    #Formula of EVI = 2.5 ((NIR - Red)/(NIR + 6*Red - 7.5*Blue + 1))\n",
    "    if(sat == 7): \n",
    "        evi = image.expression('2.5 * ((NIR - RED) / (NIR + 6 * RED - 7.5 * BLUE + 1))', {\n",
    "          'NIR': image.select('B4'),\n",
    "          'RED': image.select('B3'),\n",
    "          'BLUE': image.select('B1')})\n",
    "    elif(sat == 8): \n",
    "        evi = image.expression('2.5 * ((NIR - RED) / (NIR + 6 * RED - 7.5 * BLUE + 1))', {\n",
    "          'NIR': image.select('B5'),\n",
    "          'RED': image.select('B4'),\n",
    "          'BLUE': image.select('B2')})\n",
    "    else: \n",
    "        print(\"Error: Not a Landsat 7 or 8 image!\")\n",
    "        return False\n",
    "    \n",
    "    Map.addLayer(evi, {'min': -1, 'max': 1, 'palette': ['FF0000', '00FF00']}, 'EVI')\n",
    "    return True\n",
    "\n",
    "def index_NDWI(name, sat): \n",
    "    \"\"\"\n",
    "    Calculate the NDWI (Normalized Difference Water Index)\n",
    "    @param name: path of the gee image - String \n",
    "           sat: Number of the Landsat used as source - number\n",
    "    @return boolean False if the image is not coming from Ladsat 7 or 8\n",
    "                    else, return True\n",
    "    \"\"\"\n",
    "    image = ee.Image(name)\n",
    "    if(sat == 7): \n",
    "        NIR = image.select('B4')\n",
    "        SWIR = image.select('B5')\n",
    "    elif(sat == 8): \n",
    "        NIR = image.select('B5')\n",
    "        SWIR = image.select('B6')\n",
    "    else: \n",
    "        print(\"Error : Not a Landsat 7 or 8 image!\")\n",
    "        return False\n",
    "    #Formula of NDWI = (NIR - SWIR)/(NIR + SWIR)\n",
    "    ndwi = NIR.subtract(SWIR).divide(NIR.add(SWIR))\n",
    "    \n",
    "    Map.addLayer(ndwi, {'min': -1, 'max': 1, 'palette': ['FF0000', '00FF00']}, \"NDWI\")\n",
    "    return True \n",
    "\n",
    "def index_MNDWI(name, sat): \n",
    "    \"\"\"\n",
    "    Calculate the MNDWI (Modified Normalized Difference Water Index)\n",
    "    @param name: path of the gee image - String \n",
    "           sat: Number of the Landsat used as source - number\n",
    "    @return boolean False if the image is not coming from Ladsat 7 or 8\n",
    "                    else, return True\n",
    "    \"\"\"\n",
    "    image = ee.Image(name)\n",
    "    if(sat == 7): \n",
    "        Green = image.select('B2')\n",
    "        SWIR = image.select('B5')\n",
    "    elif(sat == 8): \n",
    "        Green = image.select('B3')\n",
    "        SWIR = image.select('B6')\n",
    "    else: \n",
    "        print(\"Error : Not a Landsat 7 or 8 image!\")\n",
    "        return False\n",
    "    #Formula of MNDWI = (Green - SWIR)/(Green + SWIR)\n",
    "    mndwi = Green.subtract(SWIR).divide(Green.add(SWIR))\n",
    "    \n",
    "    Map.addLayer(mndwi, {'min': -1, 'max': 1, 'palette': ['FF0000', '00FF00']}, \"MNDWI\")\n",
    "    return True \n",
    "\n",
    "def index_NDBI(name, sat): \n",
    "    \"\"\"\n",
    "    Calculate the NDBI (Normalized Difference Built-up Index)\n",
    "    @param name: path of the gee image - String \n",
    "           sat: Number of the Landsat used as source - number\n",
    "    @return boolean False if the image is not coming from Ladsat 7 or 8\n",
    "                    else, return True\n",
    "    \"\"\"\n",
    "    image = ee.Image(name)\n",
    "    if(sat == 7): \n",
    "        NIR = image.select('B4')\n",
    "        SWIR = image.select('B5')\n",
    "    elif(sat == 8): \n",
    "        NIR = image.select('B5')\n",
    "        SWIR = image.select('B6')\n",
    "    else: \n",
    "        print(\"Error : Not a Landsat 7 or 8 image!\")\n",
    "        return False\n",
    "    \n",
    "    #Formula of NDBI = (SWIR - NIR)/(SWIR + NIR)\n",
    "    ndbi = SWIR.subtract(NIR).divide(SWIR.add(NIR))\n",
    "    \n",
    "    Map.addLayer(ndbi, {'min': -1, 'max': 1, 'palette': ['FF0000', '00FF00']}, \"NDBI\")\n",
    "    return True\n",
    "\n",
    "def index_SAVI(name, sat):\n",
    "    \"\"\"\n",
    "    Calculate the SAVI (Soil Adjustment Vegetation Index)\n",
    "    @param name: path of the gee image - String \n",
    "           sat: Number of the Landsat used as source - number\n",
    "    @return boolean False if the image is not coming from Ladsat 7 or 8\n",
    "                    else, return True    \n",
    "    \"\"\"\n",
    "    image = ee.Image(name);\n",
    "    if(sat == 7): \n",
    "        savi = image.expression('((NIR - Red)/(NIR + Red + 0.5))*1.5', {\n",
    "          'NIR': image.select('B4'),\n",
    "          'Red': image.select('B3')})\n",
    "    elif(sat == 8): \n",
    "        savi = image.expression('((NIR - Red)/(NIR + Red + 0.5))*1.5', {\n",
    "          'NIR': image.select('B5'),\n",
    "          'Red': image.select('B4')})\n",
    "    else: \n",
    "        print(\"Error : Not a Landsat 7 or 8 image!\")\n",
    "        return False\n",
    "    \n",
    "    Map.addLayer(savi, {'min': -1, 'max': 1, 'palette': ['FF0000', '00FF00']}, \"SAVI\")\n",
    "    return True\n",
    "    "
   ]
  },
  {
   "cell_type": "code",
   "execution_count": 86,
   "id": "2b665d83",
   "metadata": {},
   "outputs": [
    {
     "data": {
      "application/vnd.jupyter.widget-view+json": {
       "model_id": "2a4eadd67f8d4eb9828d1a2838325d60",
       "version_major": 2,
       "version_minor": 0
      },
      "text/plain": [
       "Map(bottom=754.0, center=[20, 0], controls=(WidgetControl(options=['position', 'transparent_bg'], widget=HBox(…"
      ]
     },
     "metadata": {},
     "output_type": "display_data"
    }
   ],
   "source": [
    "index_SAVI('LANDSAT/LE7_TOA_5YEAR/1999_2003',7)\n",
    "Map"
   ]
  },
  {
   "cell_type": "code",
   "execution_count": 87,
   "id": "3f1ef3da",
   "metadata": {},
   "outputs": [],
   "source": [
    "# Add Earth Engine dataset\n",
    "dem = ee.Image('USGS/SRTMGL1_003')\n",
    "landcover = ee.Image(\"ESA/GLOBCOVER_L4_200901_200912_V2_3\").select('landcover')\n",
    "landsat7 = ee.Image('LANDSAT/LE7_TOA_5YEAR/1999_2003').select(\n",
    "    ['B1', 'B2', 'B3', 'B4', 'B5', 'B7']\n",
    ")\n",
    "states = ee.FeatureCollection(\"TIGER/2018/States\")\n",
    "\n",
    "# Set visualization parameters.\n",
    "vis_params = {\n",
    "    'min': 0,\n",
    "    'max': 4000,\n",
    "    'palette': ['006633', 'E5FFCC', '662A00', 'D8D8D8', 'F5F5F5'],\n",
    "}\n",
    "\n",
    "# Add Earth Eninge layers to Map\n",
    "Map.addLayer(dem, vis_params, 'SRTM DEM', True, 0.5)\n",
    "Map.addLayer(landcover, {}, 'Land cover')\n",
    "Map.addLayer(\n",
    "    landsat7,\n",
    "    {'bands': ['B4', 'B3', 'B2'], 'min': 20, 'max': 200, 'gamma': 2.0},\n",
    "    'Landsat 7',\n",
    ")\n",
    "Map.addLayer(states, {}, \"US States\")"
   ]
  },
  {
   "cell_type": "code",
   "execution_count": null,
   "id": "022e5400",
   "metadata": {},
   "outputs": [],
   "source": []
  },
  {
   "cell_type": "code",
   "execution_count": null,
   "id": "57ff8d83",
   "metadata": {},
   "outputs": [],
   "source": []
  },
  {
   "cell_type": "code",
   "execution_count": null,
   "id": "896f4644",
   "metadata": {},
   "outputs": [],
   "source": []
  }
 ],
 "metadata": {
  "kernelspec": {
   "display_name": "Python 3 (ipykernel)",
   "language": "python",
   "name": "python3"
  },
  "language_info": {
   "codemirror_mode": {
    "name": "ipython",
    "version": 3
   },
   "file_extension": ".py",
   "mimetype": "text/x-python",
   "name": "python",
   "nbconvert_exporter": "python",
   "pygments_lexer": "ipython3",
   "version": "3.7.13"
  }
 },
 "nbformat": 4,
 "nbformat_minor": 5
}
